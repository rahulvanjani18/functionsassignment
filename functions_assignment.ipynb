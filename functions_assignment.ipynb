{
  "nbformat": 4,
  "nbformat_minor": 0,
  "metadata": {
    "colab": {
      "provenance": []
    },
    "kernelspec": {
      "name": "python3",
      "display_name": "Python 3"
    },
    "language_info": {
      "name": "python"
    }
  },
  "cells": [
    {
      "cell_type": "markdown",
      "source": [
        "1. What are data structures, and why are they important?\n",
        "\n",
        "   -Data structures are special formats used to organize, manage, and store data efficiently. Common data structures in Python include lists, tuples, sets, and dictionaries. They are important because they help programmers write clean, optimized, and logical code. For example, a list is ideal for storing items in order, while a dictionary is perfect for storing key-value pairs. Choosing the right data structure can make your program faster and easier to understand.\n",
        "\n",
        "2. Explain the difference between mutable and immutable data types with examples.\n",
        "\n",
        "   -In Python, mutable data types can be changed after they are created, while immutable data types cannot be changed.\n",
        "\n",
        "   Eg of mutable data types are list, dictionary, set.\n",
        "   Eg of immutable data types are tuple, float, string.\n",
        "\n",
        "3. What are the main differences between lists and tuples in Python?\n",
        "\n",
        "  -Mutability:\n",
        "  Lists are mutable, meaning their elements can be changed after creation.\n",
        "  Tuples are immutable, meaning they cannot be modified once created.\n",
        "\n",
        "  Syntax:\n",
        "  Lists use square brackets: [1, 2, 3]\n",
        "  Tuples use parentheses: (1, 2, 3)\n",
        "\n",
        "  Performance:\n",
        "  Tuples are generally faster than lists because they are immutable and use less memory.\n",
        "\n",
        "  Use cases:\n",
        "  Lists are used when data is likely to change (e.g., user input, dynamic data).\n",
        "  Tuples are used when data should remain constant (e.g., coordinates, settings).\n",
        "\n",
        "  Methods:\n",
        "  Lists have more built-in methods (like append(), remove()),\n",
        "  while tuples have fewer methods due to their immutability.\n",
        "\n",
        "4. Describe how dictionaries store data.\n",
        "\n",
        "   -Dictionaries in Python store data as key-value pairs inside curly braces {}. Each key is unique and is linked to a value. Keys must be immutable (like strings or numbers), while values can be of any type. Internally, Python uses a hash table to store keys, allowing fast access to values.\n",
        "\n",
        "5. Why might you use a set instead of a list in Python?\n",
        "\n",
        "   -A set is used when you want to store unique items only and don’t care about the order. Unlike lists, sets automatically remove duplicates.\n",
        "\n",
        "6. What is a string in Python, and how is it different from a list?\n",
        "\n",
        "   -A string in Python is a sequence of characters enclosed in quotes, like \"hello\". A list is a sequence that can contain items of any data type.\n",
        "    Main differences:\n",
        "\n",
        "    Strings are immutable, while lists are mutable.\n",
        "\n",
        "    Strings can only store characters, but lists can store numbers, strings, and even other lists.\n",
        "\n",
        "7. How do tuples ensure data integrity in Python?\n",
        "\n",
        "   -Tuples are immutable, which means once they are created, their values cannot be changed. This makes them reliable for storing data that should stay constant. For example, coordinates, dates, or configuration settings are often stored in tuples. Their immutability prevents accidental changes, ensuring the original data remains intact throughout the program.   \n",
        "\n",
        "8. What is a hash table, and how does it relate to dictionaries in Python?\n",
        "\n",
        "   -A hash table is a data structure that maps keys to values using a hash function. In Python, dictionaries are built on hash tables. When you access a value using a key, Python quickly finds it using the key's hash value. This allows fast O(1) access time for lookups, insertions, and deletions in dictionaries.\n",
        "\n",
        "9. Can lists contain different data types in Python?\n",
        "\n",
        "   -Yes, lists in Python can store elements of different data types. This is one of the strengths of Python’s list data structure. This flexibility makes lists useful for various applications, such as storing structured data, collecting user input, or creating dynamic tables.\n",
        "\n",
        "10. Explain why strings are immutable in Python.\n",
        "\n",
        "   -Strings in Python are immutable, meaning they cannot be changed after they are created. This design helps in security, performance, and data integrity. Since strings are used frequently in programs (especially as keys in dictionaries), making them immutable ensures they behave consistently. If you want to modify a string, you must create a new one.\n",
        "\n",
        "11. What advantages do dictionaries offer over lists for certain tasks?\n",
        "\n",
        "   -Dictionaries are better than lists when you need to store and quickly access data using a unique key.\n",
        "\n",
        "   In lists, data is accessed by index, which is slower for searching (O(n) time).\n",
        "\n",
        "   In dictionaries, data is accessed by key, which is much faster (O(1) time on average).\n",
        "\n",
        "   Dictionaries also make data more readable using meaningful keys instead of numeric positions.\n",
        "\n",
        "12. Describe a scenario where using a tuple would be preferable over a list.\n",
        "\n",
        "   -Tuples are preferable when you want to store fixed data that should not change.\n",
        "   Example scenario:\n",
        "   Storing coordinates of a point like (5, 10) in a program. Since coordinates shouldn’t be changed accidentally, a tuple is safer.\n",
        "\n",
        "13. How do sets handle duplicate values in Python?\n",
        "\n",
        "    -Sets automatically remove duplicate values.\n",
        "    When you add items to a set, only unique elements are stored, and any duplicates are ignored. This feature makes sets ideal for filtering out duplicates and performing mathematical operations like union, intersection, etc.\n",
        "\n",
        "14. How does the “in” keyword work differently for lists and dictionaries?\n",
        "\n",
        "    -In lists, in checks if a value exists in the list.\n",
        "\n",
        "    In dictionaries, in checks if a key exists, not the value.\n",
        "\n",
        "15. Can you modify the elements of a tuple? Explain why or why not.\n",
        "\n",
        "   -No, you cannot modify elements of a tuple because tuples are immutable in Python.\n",
        "   Once a tuple is created, its elements cannot be changed, added, or removed.\n",
        "   This helps maintain data integrity and allows tuples to be used as dictionary keys or set elements.\n",
        "\n",
        "\n",
        "16. What is a nested dictionary, and give an example of its use case.\n",
        "\n",
        "   -A nested dictionary is a dictionary where each value can also be another dictionary. It helps store hierarchical or structured data.\n",
        "\n",
        "   Example:\n",
        "   student = {\n",
        "    \"name\": \"Rahul\",\n",
        "    \"marks\": {\"math\": 90, \"science\": 85}\n",
        "  }\n",
        "\n",
        "\n",
        "17. Describe the time complexity of accessing elements in a dictionary.\n",
        "\n",
        "   -Accessing elements in a dictionary using a key has an average-case time complexity of O(1).\n",
        "   This is because dictionaries use a hash table internally.\n",
        "   \n",
        "\n",
        "18. In what situations are lists preferred over dictionaries?\n",
        "\n",
        "   -Lists are preferred when:\n",
        "\n",
        "   The order of elements matters (lists maintain insertion order).\n",
        "\n",
        "   You need to store sequential or indexed data.\n",
        "\n",
        "   The data does not need to be labeled with unique keys.\n",
        "\n",
        "   You need to perform operations like sorting, slicing, or iterating in a specific sequence.\n",
        "\n",
        "\n",
        "19. Why are dictionaries considered unordered, and how does that affect data retrieval?\n",
        "\n",
        "   -Traditionally, dictionaries were unordered collections, meaning they didn’t maintain the insertion order of keys.\n",
        "   As of Python 3.7+, dictionaries maintain insertion order, but conceptually, they are still treated as unordered mappings.\n",
        "\n",
        "\n",
        "20. Explain the difference between a list and a dictionary in terms of data retrieval.\n",
        "\n",
        "   -In a list, data is retrieved using index positions (e.g., my_list[0]).\n",
        "\n",
        "   In a dictionary, data is retrieved using keys (e.g., my_dict[\"name\"]).\n",
        "\n",
        "   Key difference:\n",
        "\n",
        "   Lists are good for ordered data.\n",
        "\n",
        "   Dictionaries are better for key-value mappings where you need fast lookups by a specific identifier.\n",
        "\n",
        "\n",
        "\n",
        "\n",
        "\n",
        "\n",
        "\n",
        "\n",
        "\n",
        "\n",
        "\n",
        "\n",
        "\n",
        "\n",
        "\n",
        "\n",
        "\n",
        "\n",
        "\n",
        "\n",
        "\n"
      ],
      "metadata": {
        "id": "uF_Q1cw_Tenr"
      }
    },
    {
      "cell_type": "code",
      "execution_count": 1,
      "metadata": {
        "colab": {
          "base_uri": "https://localhost:8080/"
        },
        "id": "L08yKMZ6SZMB",
        "outputId": "86d8a320-0bb0-47db-abe6-9172e307e9c8"
      },
      "outputs": [
        {
          "output_type": "stream",
          "name": "stdout",
          "text": [
            "Rahul\n"
          ]
        }
      ],
      "source": [
        "#PRACTICAL QUESTIONS\n",
        "#1 Write a code to create a string with your name and print it\n",
        "\n",
        "name = \"Rahul\"\n",
        "print(name)\n"
      ]
    },
    {
      "cell_type": "code",
      "source": [
        "#2 Write a code to find the length of the string \"Hello World\"P\n",
        "\n",
        "string1 = 'hello world'\n",
        "print(len(string))"
      ],
      "metadata": {
        "colab": {
          "base_uri": "https://localhost:8080/"
        },
        "id": "i06eYlZIqqyt",
        "outputId": "fe5169b3-a172-49bc-89cd-84124c86fcf4"
      },
      "execution_count": 2,
      "outputs": [
        {
          "output_type": "stream",
          "name": "stdout",
          "text": [
            "11\n"
          ]
        }
      ]
    },
    {
      "cell_type": "code",
      "source": [
        "#3 Write a code to slice the first 3 characters from the string \"Python Programming\n",
        "\n",
        "string2 = 'python programming'\n",
        "print(string2[0:3])\n"
      ],
      "metadata": {
        "colab": {
          "base_uri": "https://localhost:8080/"
        },
        "id": "_G_NueJ2rFFW",
        "outputId": "5f99bd3d-683e-4735-c7f8-279bd252325d"
      },
      "execution_count": 3,
      "outputs": [
        {
          "output_type": "stream",
          "name": "stdout",
          "text": [
            "pyt\n"
          ]
        }
      ]
    },
    {
      "cell_type": "code",
      "source": [
        "#4 Write a code to convert the string \"hello\" to uppercase\n",
        "\n",
        "string3 = 'hello'\n",
        "print(string3.upper())"
      ],
      "metadata": {
        "colab": {
          "base_uri": "https://localhost:8080/"
        },
        "id": "l7FPQanAraTZ",
        "outputId": "0032758d-4d92-46a0-edec-e45e6d27919d"
      },
      "execution_count": 4,
      "outputs": [
        {
          "output_type": "stream",
          "name": "stdout",
          "text": [
            "HELLO\n"
          ]
        }
      ]
    },
    {
      "cell_type": "code",
      "source": [
        "#5Write a code to replace the word \"apple\" with \"orange\" in the string \"I like apple\"\n",
        "\n",
        "string4 = 'I like apple'\n",
        "print(string4.replace('apple', 'orange'))\n"
      ],
      "metadata": {
        "colab": {
          "base_uri": "https://localhost:8080/"
        },
        "id": "JiXhc6CfrsE0",
        "outputId": "d88f613f-a827-4fff-8970-0c8941eb82ce"
      },
      "execution_count": 5,
      "outputs": [
        {
          "output_type": "stream",
          "name": "stdout",
          "text": [
            "I like orange\n"
          ]
        }
      ]
    },
    {
      "cell_type": "code",
      "source": [
        "#6 Write a code to create a list with numbers 1 to 5 and print it\n",
        "\n",
        "list1 = [1,2,3,4,5]\n",
        "print(list1)"
      ],
      "metadata": {
        "colab": {
          "base_uri": "https://localhost:8080/"
        },
        "id": "wEs0nKXor5kD",
        "outputId": "ad8769c7-e3bc-4ec1-ed14-fbfc479a0494"
      },
      "execution_count": 8,
      "outputs": [
        {
          "output_type": "stream",
          "name": "stdout",
          "text": [
            "[1, 2, 3, 4, 5]\n"
          ]
        }
      ]
    },
    {
      "cell_type": "code",
      "source": [
        "#7 Write a code to append the number 10 to the list [1, 2, 3, 4]\n",
        "\n",
        "list2 = [1,2,3,4]\n",
        "list2.append(10)\n",
        "print(list2)\n"
      ],
      "metadata": {
        "colab": {
          "base_uri": "https://localhost:8080/"
        },
        "id": "GwjbEPXfsNOV",
        "outputId": "fa9fb757-0715-448d-f2e3-213bd4c0f3c9"
      },
      "execution_count": 9,
      "outputs": [
        {
          "output_type": "stream",
          "name": "stdout",
          "text": [
            "[1, 2, 3, 4, 10]\n"
          ]
        }
      ]
    },
    {
      "cell_type": "code",
      "source": [
        "#8 Write a code to remove the number 3 from the list [1, 2, 3, 4, 5]\n",
        "lis3= [1,2,3,4,5]\n",
        "lis3.remove(3)\n",
        "print(lis3)"
      ],
      "metadata": {
        "colab": {
          "base_uri": "https://localhost:8080/"
        },
        "id": "wVTEqfZKskfr",
        "outputId": "2e7c6ead-5f70-4dfd-c09e-8511efd2ef6e"
      },
      "execution_count": 10,
      "outputs": [
        {
          "output_type": "stream",
          "name": "stdout",
          "text": [
            "[1, 2, 4, 5]\n"
          ]
        }
      ]
    },
    {
      "cell_type": "code",
      "source": [
        "#9  Write a code to access the second element in the list ['a', 'b', 'c', 'd']\n",
        "\n",
        "list4 = ['a','b','c','d']\n",
        "print(list4[1])"
      ],
      "metadata": {
        "colab": {
          "base_uri": "https://localhost:8080/"
        },
        "id": "1dlkFekNszl-",
        "outputId": "28cc7805-d830-461f-a656-97da689db1e3"
      },
      "execution_count": 11,
      "outputs": [
        {
          "output_type": "stream",
          "name": "stdout",
          "text": [
            "b\n"
          ]
        }
      ]
    },
    {
      "cell_type": "code",
      "source": [
        "#10 Write a code to reverse the list [10, 20, 30, 40, 50].\n",
        "\n",
        "list5 = [10,20,30,40,50]\n",
        "print(list5[::-1])"
      ],
      "metadata": {
        "colab": {
          "base_uri": "https://localhost:8080/"
        },
        "id": "HIlhic97tPPk",
        "outputId": "2849d817-3243-4237-8800-782607776942"
      },
      "execution_count": 13,
      "outputs": [
        {
          "output_type": "stream",
          "name": "stdout",
          "text": [
            "[50, 40, 30, 20, 10]\n"
          ]
        }
      ]
    },
    {
      "cell_type": "code",
      "source": [
        "#11 Write a code to create a tuple with the elements 100, 200, 300 and print it.\n",
        "\n",
        "tuple1 = (100,200,300)\n",
        "print(tuple1)"
      ],
      "metadata": {
        "colab": {
          "base_uri": "https://localhost:8080/"
        },
        "id": "dg7b4U2_tcw5",
        "outputId": "1f7c50a9-79f1-4cbe-8103-5a448b3b4f7f"
      },
      "execution_count": 14,
      "outputs": [
        {
          "output_type": "stream",
          "name": "stdout",
          "text": [
            "(100, 200, 300)\n"
          ]
        }
      ]
    },
    {
      "cell_type": "code",
      "source": [
        "#12  Write a code to access the second-to-last element of the tuple ('red', 'green', 'blue', 'yellow').\n",
        "\n",
        "tuple2 = ('red', 'green', 'blue', 'yellow')\n",
        "print(tuple2[-2])"
      ],
      "metadata": {
        "colab": {
          "base_uri": "https://localhost:8080/"
        },
        "id": "dJUsPRYDtunU",
        "outputId": "04ffeedf-51a4-4043-aca5-a4dea18a1ab2"
      },
      "execution_count": 15,
      "outputs": [
        {
          "output_type": "stream",
          "name": "stdout",
          "text": [
            "blue\n"
          ]
        }
      ]
    },
    {
      "cell_type": "code",
      "source": [
        "#13  Write a code to find the minimum number in the tuple (10, 20, 5, 15).\n",
        "\n",
        "tuple3 = (10,20,5,15)\n",
        "print(min(tuple3))"
      ],
      "metadata": {
        "colab": {
          "base_uri": "https://localhost:8080/"
        },
        "id": "AjieOPmzt5Tq",
        "outputId": "aa49b6a7-cbd3-487e-e830-63f59da4da40"
      },
      "execution_count": 16,
      "outputs": [
        {
          "output_type": "stream",
          "name": "stdout",
          "text": [
            "5\n"
          ]
        }
      ]
    },
    {
      "cell_type": "code",
      "source": [
        "#14  Write a code to find the index of the element \"cat\" in the tuple ('dog', 'cat', 'rabbit').\n",
        "\n",
        "tuple4 = ('dog', 'cat', 'rabbit')\n",
        "print(tuple4.index('cat'))"
      ],
      "metadata": {
        "colab": {
          "base_uri": "https://localhost:8080/"
        },
        "id": "4cercj6UuDkE",
        "outputId": "4be61729-fb3a-4a34-a23c-fade55f90657"
      },
      "execution_count": 17,
      "outputs": [
        {
          "output_type": "stream",
          "name": "stdout",
          "text": [
            "1\n"
          ]
        }
      ]
    },
    {
      "cell_type": "code",
      "source": [
        "#15  Write a code to create a tuple containing three different fruits and check if \"kiwi\" is in it.\n",
        "\n",
        "tuple5 = ('apple','banana','kiwi')\n",
        "if 'kiwi' in tuple5:\n",
        "  print('kiwi is present')\n",
        "else:\n",
        "  print('kiwi is not present')"
      ],
      "metadata": {
        "colab": {
          "base_uri": "https://localhost:8080/"
        },
        "id": "MvV6l5gouMCY",
        "outputId": "40e78493-a1c2-4ef0-b9b1-2430a5ee64a0"
      },
      "execution_count": 18,
      "outputs": [
        {
          "output_type": "stream",
          "name": "stdout",
          "text": [
            "kiwi is present\n"
          ]
        }
      ]
    },
    {
      "cell_type": "code",
      "source": [
        "#16  Write a code to create a set with the elements 'a', 'b', 'c' and print it.\n",
        "\n",
        "set1 = {'a','b','c'}\n",
        "print(set1)"
      ],
      "metadata": {
        "colab": {
          "base_uri": "https://localhost:8080/"
        },
        "id": "-GvPM2rNuzra",
        "outputId": "bafc20ae-6fbd-415e-e432-77049b14facc"
      },
      "execution_count": 19,
      "outputs": [
        {
          "output_type": "stream",
          "name": "stdout",
          "text": [
            "{'b', 'a', 'c'}\n"
          ]
        }
      ]
    },
    {
      "cell_type": "code",
      "source": [
        "#17  Write a code to clear all elements from the set {1, 2, 3, 4, 5}\n",
        "\n",
        "set2 = {1,2,3,4,5}\n",
        "set2.clear()\n",
        "print(set2)"
      ],
      "metadata": {
        "colab": {
          "base_uri": "https://localhost:8080/"
        },
        "id": "bE5vZJphvV1J",
        "outputId": "af94134a-451d-4013-ceea-c47652dc458a"
      },
      "execution_count": 20,
      "outputs": [
        {
          "output_type": "stream",
          "name": "stdout",
          "text": [
            "set()\n"
          ]
        }
      ]
    },
    {
      "cell_type": "code",
      "source": [
        "#18  Write a code to remove the element 4 from the set {1, 2, 3, 4}.\n",
        "\n",
        "set3 = {1,2,3,4}\n",
        "set3.remove(4)\n",
        "print(set3)"
      ],
      "metadata": {
        "colab": {
          "base_uri": "https://localhost:8080/"
        },
        "id": "HWtOPcvBveUJ",
        "outputId": "69ddd088-31de-4166-995f-c37b066fd1c4"
      },
      "execution_count": 21,
      "outputs": [
        {
          "output_type": "stream",
          "name": "stdout",
          "text": [
            "{1, 2, 3}\n"
          ]
        }
      ]
    },
    {
      "cell_type": "code",
      "source": [
        "#19  Write a code to find the union of two sets {1, 2, 3} and {3, 4, 5}\n",
        "\n",
        "set4 = {1,2,3}\n",
        "set5 = {3,4,5}\n",
        "print(set4.union(set5))"
      ],
      "metadata": {
        "colab": {
          "base_uri": "https://localhost:8080/"
        },
        "id": "s0w7ZYtXvwQF",
        "outputId": "98f37369-b9f6-4a74-aa8f-2b94da94af8d"
      },
      "execution_count": 22,
      "outputs": [
        {
          "output_type": "stream",
          "name": "stdout",
          "text": [
            "{1, 2, 3, 4, 5}\n"
          ]
        }
      ]
    },
    {
      "cell_type": "code",
      "source": [
        "#20  Write a code to find the intersection of two sets {1, 2, 3} and {2, 3, 4}.\n",
        "\n",
        "set6 = {1,2,3}\n",
        "set7 = {2,3,4}\n",
        "print(set6.intersection(set7))"
      ],
      "metadata": {
        "colab": {
          "base_uri": "https://localhost:8080/"
        },
        "id": "K2HEwVtFwBS-",
        "outputId": "aba14951-8f7c-4e38-e267-251ab622a869"
      },
      "execution_count": 23,
      "outputs": [
        {
          "output_type": "stream",
          "name": "stdout",
          "text": [
            "{2, 3}\n"
          ]
        }
      ]
    },
    {
      "cell_type": "code",
      "source": [
        "#21  Write a code to create a dictionary with the keys \"name\", \"age\", and \"city\", and print it.\n",
        "\n",
        "dict1 = {'name':'rahul', 'age':20, 'city':'delhi'}\n",
        "print(dict1)"
      ],
      "metadata": {
        "colab": {
          "base_uri": "https://localhost:8080/"
        },
        "id": "9dwV8dtDwKK_",
        "outputId": "8eb037b6-5813-46ab-d745-dfca4ca6ca2b"
      },
      "execution_count": 29,
      "outputs": [
        {
          "output_type": "stream",
          "name": "stdout",
          "text": [
            "{'name': 'rahul', 'age': 20, 'city': 'delhi'}\n"
          ]
        }
      ]
    },
    {
      "cell_type": "code",
      "source": [
        "#22  Write a code to add a new key-value pair \"country\": \"USA\" to the dictionary {'name': 'John', 'age': 25}.\n",
        "\n",
        "dict2 = {'name': 'John', 'age': 25}\n",
        "dict2['country'] = 'USA'\n",
        "print(dict2)\n",
        ""
      ],
      "metadata": {
        "colab": {
          "base_uri": "https://localhost:8080/"
        },
        "id": "pwnIRI57wfvX",
        "outputId": "02dbb719-1788-449c-b511-c9dfdc7f66d2"
      },
      "execution_count": 30,
      "outputs": [
        {
          "output_type": "stream",
          "name": "stdout",
          "text": [
            "{'name': 'John', 'age': 25, 'country': 'USA'}\n"
          ]
        }
      ]
    },
    {
      "cell_type": "code",
      "source": [
        "#23  Write a code to access the value associated with the key \"name\" in the dictionary {'name': 'Alice', 'age': 30}.\n",
        "\n",
        "dict3 = {'name': 'Alice', 'age': 30}\n",
        "print(dict3['name'])"
      ],
      "metadata": {
        "colab": {
          "base_uri": "https://localhost:8080/"
        },
        "id": "tP0rWUd4xKZP",
        "outputId": "2ea1590a-5f6e-435d-f291-e8494b6ece7c"
      },
      "execution_count": 34,
      "outputs": [
        {
          "output_type": "stream",
          "name": "stdout",
          "text": [
            "Alice\n"
          ]
        }
      ]
    },
    {
      "cell_type": "code",
      "source": [
        "#24  Write a code to remove the key \"age\" from the dictionary {'name': 'Bob', 'age': 22, 'city': 'New York'}.\n",
        "\n",
        "dict4 = {'name': 'Bob', 'age': 22, 'city': 'New York'}\n",
        "dict4.pop('age')\n",
        "print(dict4)"
      ],
      "metadata": {
        "colab": {
          "base_uri": "https://localhost:8080/"
        },
        "id": "xjvj7zcNxbY2",
        "outputId": "bfb0db0a-6d5e-48c5-d870-fe986ee6fa14"
      },
      "execution_count": 35,
      "outputs": [
        {
          "output_type": "stream",
          "name": "stdout",
          "text": [
            "{'name': 'Bob', 'city': 'New York'}\n"
          ]
        }
      ]
    },
    {
      "cell_type": "code",
      "source": [
        "#25  Write a code to check if the key \"city\" exists in the dictionary {'name': 'Alice', 'city': 'Paris'}.\n",
        "\n",
        "dict5 = {'name': 'Alice', 'city': 'Paris'}\n",
        "if 'city' in dict5:\n",
        "  print('city is present')\n",
        "else:\n",
        "  print('city is not present')"
      ],
      "metadata": {
        "colab": {
          "base_uri": "https://localhost:8080/"
        },
        "id": "9xz2TKBexz_c",
        "outputId": "1e0a0aa0-ae7d-45af-834f-a17456aee324"
      },
      "execution_count": 36,
      "outputs": [
        {
          "output_type": "stream",
          "name": "stdout",
          "text": [
            "city is present\n"
          ]
        }
      ]
    },
    {
      "cell_type": "code",
      "source": [
        "#26 . Write a code to create a list, a tuple, and a dictionary, and print them all.\n",
        "\n",
        "list8 = [1,2,3,4]\n",
        "tuple8 = (1,2,3,4)\n",
        "dict8 = {'name':'rahul', 'age':20, 'city':'delhi'}\n",
        "print(list8)\n",
        "print(tuple8)\n",
        "print(dict8)"
      ],
      "metadata": {
        "colab": {
          "base_uri": "https://localhost:8080/"
        },
        "id": "cJshiFWByD4m",
        "outputId": "738b1006-1186-4f62-bf1f-07e51815c2e3"
      },
      "execution_count": 38,
      "outputs": [
        {
          "output_type": "stream",
          "name": "stdout",
          "text": [
            "[1, 2, 3, 4]\n",
            "(1, 2, 3, 4)\n",
            "{'name': 'rahul', 'age': 20, 'city': 'delhi'}\n"
          ]
        }
      ]
    },
    {
      "cell_type": "code",
      "source": [
        "'''27  Write a code to create a list of 5 random numbers between 1 and 100, sort it in ascending order, and print the result. replaced'''\n",
        "\n",
        "\n",
        "import random\n",
        "list9 = [random.randint(1,100) for i in range(5)]\n",
        "list9.sort()\n",
        "print(list9)"
      ],
      "metadata": {
        "colab": {
          "base_uri": "https://localhost:8080/"
        },
        "id": "SKbKk4qJyMQ3",
        "outputId": "a34c564e-8b8f-4610-ef38-c92c438b10db"
      },
      "execution_count": 45,
      "outputs": [
        {
          "output_type": "stream",
          "name": "stdout",
          "text": [
            "[30, 50, 62, 78, 92]\n"
          ]
        }
      ]
    },
    {
      "cell_type": "code",
      "source": [
        "#28 Write a code to create a list with strings and print the element at the third index.\n",
        "\n",
        "list10 = ['apple','banana','kiwi']\n",
        "print(list10[2])"
      ],
      "metadata": {
        "colab": {
          "base_uri": "https://localhost:8080/"
        },
        "id": "achcp63Iy02I",
        "outputId": "51f89c8d-c980-4c4a-c1a3-f3006d788490"
      },
      "execution_count": 46,
      "outputs": [
        {
          "output_type": "stream",
          "name": "stdout",
          "text": [
            "kiwi\n"
          ]
        }
      ]
    },
    {
      "cell_type": "code",
      "source": [
        "#29  Write a code to combine two dictionaries into one and print the result.\n",
        "\n",
        "dict9 = {'name':'rahul', 'age':20, 'city':'delhi'}\n",
        "dict10 = {'height':'tall', 'gender':'male', 'country':'USA'}\n",
        "dict9.update(dict10)\n",
        "print(dict9)\n"
      ],
      "metadata": {
        "colab": {
          "base_uri": "https://localhost:8080/"
        },
        "id": "okYVgeEyzpyj",
        "outputId": "10dc3897-a57b-4d02-f1ce-4989d75c712d"
      },
      "execution_count": 48,
      "outputs": [
        {
          "output_type": "stream",
          "name": "stdout",
          "text": [
            "{'name': 'rahul', 'age': 20, 'city': 'delhi', 'height': 'tall', 'gender': 'male', 'country': 'USA'}\n"
          ]
        }
      ]
    },
    {
      "cell_type": "code",
      "source": [
        "#30 Write a code to convert a list of strings into a set.\n",
        "\n",
        "strings10 = ('apple','banana','kiwi')\n",
        "set11 = set(strings10)\n",
        "print(set11)"
      ],
      "metadata": {
        "colab": {
          "base_uri": "https://localhost:8080/"
        },
        "id": "Seovty-Oz3nN",
        "outputId": "9e918620-8672-4d01-df8a-3cec5df9fd77"
      },
      "execution_count": 49,
      "outputs": [
        {
          "output_type": "stream",
          "name": "stdout",
          "text": [
            "{'banana', 'kiwi', 'apple'}\n"
          ]
        }
      ]
    },
    {
      "cell_type": "code",
      "source": [],
      "metadata": {
        "id": "yDt9ZvtR0Sxw"
      },
      "execution_count": null,
      "outputs": []
    }
  ]
}